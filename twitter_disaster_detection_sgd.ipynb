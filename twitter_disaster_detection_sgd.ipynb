{
  "nbformat": 4,
  "nbformat_minor": 0,
  "metadata": {
    "colab": {
      "name": "twitter-disaster-detection-nb.ipynb",
      "provenance": [],
      "collapsed_sections": [],
      "toc_visible": true
    },
    "kernelspec": {
      "name": "python3",
      "language": "python",
      "display_name": "Python 3"
    },
    "stem_cell": {
      "cell_type": "raw",
      "source": "",
      "metadata": {
        "pycharm": {
          "metadata": false
        }
      }
    }
  },
  "cells": [
    {
      "cell_type": "markdown",
      "source": "## SGD Categorization Implementation\n### Load Data",
      "metadata": {
        "pycharm": {
          "metadata": false
        }
      }
    },
    {
      "cell_type": "code",
      "metadata": {
        "id": "uVJpc3oFwr1V",
        "colab_type": "code",
        "colab": {},
        "pycharm": {
          "is_executing": false
        }
      },
      "source": "import numpy as np\nimport pandas as pd\n\ntrain_data_raw \u003d pd.read_csv(\"./data/train.csv\", encoding\u003d\"ISO-8859-1\") #utf-8 doesn\u0027t play nice\ntest_data_raw \u003d pd.read_csv(\"./data/test.csv\", encoding\u003d\"ISO-8859-1\")\ndisaster_type_none_label \u003d \u0027none\u0027\ntrain_data \u003d train_data_raw.replace(np.nan, disaster_type_none_label, regex\u003dTrue)\ntrain_data.drop_duplicates(subset\u003d[\"text\", \"disaster\", \"disaster_type\"], keep\u003d\"first\")\ntrain_data.head()\n\n",
      "execution_count": 27,
      "outputs": [
        {
          "data": {
            "text/plain": "   tweetid                                               text disaster_type  \\\n0    10001  @TheEllenShow Please check into Salt River hor...          none   \n1    10002  As for the hurricane, it\u0027s already category 1 ...     hurricane   \n2    10003  So it looks like my @SoundCloud profile shall ...          none   \n3    10004  @SushmaSwaraj Am sure background check of the ...          none   \n4    10005  Open forex detonation indicator is irretrievab...          none   \n\n   disaster Unnamed: 4  \n0         0       none  \n1         1       none  \n2         0       none  \n3         0       none  \n4         0       none  ",
            "text/html": "\u003cdiv\u003e\n\u003cstyle scoped\u003e\n    .dataframe tbody tr th:only-of-type {\n        vertical-align: middle;\n    }\n\n    .dataframe tbody tr th {\n        vertical-align: top;\n    }\n\n    .dataframe thead th {\n        text-align: right;\n    }\n\u003c/style\u003e\n\u003ctable border\u003d\"1\" class\u003d\"dataframe\"\u003e\n  \u003cthead\u003e\n    \u003ctr style\u003d\"text-align: right;\"\u003e\n      \u003cth\u003e\u003c/th\u003e\n      \u003cth\u003etweetid\u003c/th\u003e\n      \u003cth\u003etext\u003c/th\u003e\n      \u003cth\u003edisaster_type\u003c/th\u003e\n      \u003cth\u003edisaster\u003c/th\u003e\n      \u003cth\u003eUnnamed: 4\u003c/th\u003e\n    \u003c/tr\u003e\n  \u003c/thead\u003e\n  \u003ctbody\u003e\n    \u003ctr\u003e\n      \u003cth\u003e0\u003c/th\u003e\n      \u003ctd\u003e10001\u003c/td\u003e\n      \u003ctd\u003e@TheEllenShow Please check into Salt River hor...\u003c/td\u003e\n      \u003ctd\u003enone\u003c/td\u003e\n      \u003ctd\u003e0\u003c/td\u003e\n      \u003ctd\u003enone\u003c/td\u003e\n    \u003c/tr\u003e\n    \u003ctr\u003e\n      \u003cth\u003e1\u003c/th\u003e\n      \u003ctd\u003e10002\u003c/td\u003e\n      \u003ctd\u003eAs for the hurricane, it\u0027s already category 1 ...\u003c/td\u003e\n      \u003ctd\u003ehurricane\u003c/td\u003e\n      \u003ctd\u003e1\u003c/td\u003e\n      \u003ctd\u003enone\u003c/td\u003e\n    \u003c/tr\u003e\n    \u003ctr\u003e\n      \u003cth\u003e2\u003c/th\u003e\n      \u003ctd\u003e10003\u003c/td\u003e\n      \u003ctd\u003eSo it looks like my @SoundCloud profile shall ...\u003c/td\u003e\n      \u003ctd\u003enone\u003c/td\u003e\n      \u003ctd\u003e0\u003c/td\u003e\n      \u003ctd\u003enone\u003c/td\u003e\n    \u003c/tr\u003e\n    \u003ctr\u003e\n      \u003cth\u003e3\u003c/th\u003e\n      \u003ctd\u003e10004\u003c/td\u003e\n      \u003ctd\u003e@SushmaSwaraj Am sure background check of the ...\u003c/td\u003e\n      \u003ctd\u003enone\u003c/td\u003e\n      \u003ctd\u003e0\u003c/td\u003e\n      \u003ctd\u003enone\u003c/td\u003e\n    \u003c/tr\u003e\n    \u003ctr\u003e\n      \u003cth\u003e4\u003c/th\u003e\n      \u003ctd\u003e10005\u003c/td\u003e\n      \u003ctd\u003eOpen forex detonation indicator is irretrievab...\u003c/td\u003e\n      \u003ctd\u003enone\u003c/td\u003e\n      \u003ctd\u003e0\u003c/td\u003e\n      \u003ctd\u003enone\u003c/td\u003e\n    \u003c/tr\u003e\n  \u003c/tbody\u003e\n\u003c/table\u003e\n\u003c/div\u003e"
          },
          "metadata": {},
          "output_type": "execute_result",
          "execution_count": 27
        }
      ]
    },
    {
      "cell_type": "markdown",
      "metadata": {
        "id": "SWDdWGrG6vCA",
        "colab_type": "text",
        "pycharm": {}
      },
      "source": "### Train Test split"
    },
    {
      "cell_type": "code",
      "metadata": {
        "id": "yk-kf20jw3KP",
        "colab_type": "code",
        "colab": {},
        "pycharm": {
          "is_executing": false
        }
      },
      "source": "from sklearn.model_selection import train_test_split\ntrain, valid \u003d train_test_split(train_data, test_size\u003d0.25, random_state\u003d0)\ntrain.head()",
      "execution_count": 28,
      "outputs": [
        {
          "data": {
            "text/plain": "       tweetid                                               text  \\\n1308     11309  ladies and gentlemen meet your new prime minis...   \n12427    22428  What if every 5000 wins in ranked play gave yo...   \n11035    21036  Fair enough we have two of the best attacking ...   \n1580     11581          Should I go outside after an #earthquake?   \n4121     14122  I liked a @YouTube video https://t.co/vJSOOgoN...   \n\n      disaster_type  disaster Unnamed: 4  \n1308           none         0       none  \n12427          none         0       none  \n11035          none         0       none  \n1580     earthquake         1       none  \n4121           none         0       none  ",
            "text/html": "\u003cdiv\u003e\n\u003cstyle scoped\u003e\n    .dataframe tbody tr th:only-of-type {\n        vertical-align: middle;\n    }\n\n    .dataframe tbody tr th {\n        vertical-align: top;\n    }\n\n    .dataframe thead th {\n        text-align: right;\n    }\n\u003c/style\u003e\n\u003ctable border\u003d\"1\" class\u003d\"dataframe\"\u003e\n  \u003cthead\u003e\n    \u003ctr style\u003d\"text-align: right;\"\u003e\n      \u003cth\u003e\u003c/th\u003e\n      \u003cth\u003etweetid\u003c/th\u003e\n      \u003cth\u003etext\u003c/th\u003e\n      \u003cth\u003edisaster_type\u003c/th\u003e\n      \u003cth\u003edisaster\u003c/th\u003e\n      \u003cth\u003eUnnamed: 4\u003c/th\u003e\n    \u003c/tr\u003e\n  \u003c/thead\u003e\n  \u003ctbody\u003e\n    \u003ctr\u003e\n      \u003cth\u003e1308\u003c/th\u003e\n      \u003ctd\u003e11309\u003c/td\u003e\n      \u003ctd\u003eladies and gentlemen meet your new prime minis...\u003c/td\u003e\n      \u003ctd\u003enone\u003c/td\u003e\n      \u003ctd\u003e0\u003c/td\u003e\n      \u003ctd\u003enone\u003c/td\u003e\n    \u003c/tr\u003e\n    \u003ctr\u003e\n      \u003cth\u003e12427\u003c/th\u003e\n      \u003ctd\u003e22428\u003c/td\u003e\n      \u003ctd\u003eWhat if every 5000 wins in ranked play gave yo...\u003c/td\u003e\n      \u003ctd\u003enone\u003c/td\u003e\n      \u003ctd\u003e0\u003c/td\u003e\n      \u003ctd\u003enone\u003c/td\u003e\n    \u003c/tr\u003e\n    \u003ctr\u003e\n      \u003cth\u003e11035\u003c/th\u003e\n      \u003ctd\u003e21036\u003c/td\u003e\n      \u003ctd\u003eFair enough we have two of the best attacking ...\u003c/td\u003e\n      \u003ctd\u003enone\u003c/td\u003e\n      \u003ctd\u003e0\u003c/td\u003e\n      \u003ctd\u003enone\u003c/td\u003e\n    \u003c/tr\u003e\n    \u003ctr\u003e\n      \u003cth\u003e1580\u003c/th\u003e\n      \u003ctd\u003e11581\u003c/td\u003e\n      \u003ctd\u003eShould I go outside after an #earthquake?\u003c/td\u003e\n      \u003ctd\u003eearthquake\u003c/td\u003e\n      \u003ctd\u003e1\u003c/td\u003e\n      \u003ctd\u003enone\u003c/td\u003e\n    \u003c/tr\u003e\n    \u003ctr\u003e\n      \u003cth\u003e4121\u003c/th\u003e\n      \u003ctd\u003e14122\u003c/td\u003e\n      \u003ctd\u003eI liked a @YouTube video https://t.co/vJSOOgoN...\u003c/td\u003e\n      \u003ctd\u003enone\u003c/td\u003e\n      \u003ctd\u003e0\u003c/td\u003e\n      \u003ctd\u003enone\u003c/td\u003e\n    \u003c/tr\u003e\n  \u003c/tbody\u003e\n\u003c/table\u003e\n\u003c/div\u003e"
          },
          "metadata": {},
          "output_type": "execute_result",
          "execution_count": 28
        }
      ]
    },
    {
      "cell_type": "markdown",
      "metadata": {
        "id": "7niXwl62xiJT",
        "colab_type": "code",
        "outputId": "f041580e-ce5e-4b61-e42a-3d2dfa307ed1",
        "colab": {
          "base_uri": "https://localhost:8080/",
          "height": 197
        },
        "pycharm": {
          "is_executing": false,
          "name": "#%% md\n"
        }
      },
      "source": "### Disaster Type SGDC Classifier with Grid Search"
    },
    {
      "cell_type": "code",
      "metadata": {
        "id": "0Oau2ow66yb4",
        "colab_type": "text",
        "pycharm": {
          "name": "#%%\n",
          "is_executing": false
        }
      },
      "source": "import contractions\nimport re\nimport string\nfrom sklearn import metrics\nfrom nltk.corpus import stopwords\nfrom nltk.stem import WordNetLemmatizer\nfrom nltk.tokenize import TweetTokenizer\nfrom sklearn.feature_extraction.text import CountVectorizer\nfrom sklearn.feature_extraction.text import TfidfTransformer\nfrom sklearn.linear_model import SGDClassifier\nfrom sklearn.model_selection import GridSearchCV\nfrom sklearn.pipeline import Pipeline\n\nis_printable \u003d set(string.printable)\ndef preprocessor(string):\n    urlless \u003d re.sub(r\"http\\S+\", \" \", string)\n    u_to_you \u003d re.sub(r\" u \", \" you \", urlless)\n    numericOrdinalless \u003d re.sub(r\"\\d+(st|nd|rd|th)\", \" \", u_to_you)\n    numberless \u003d re.sub(r\"\\d+\", \" \", numericOrdinalless)\n    contractionless \u003d contractions.fix(numberless)\n    only_alpha_whitespace \u003d re.sub(r\"[^a-zA-Z\\s]\", \" \", contractionless)\n    return only_alpha_whitespace\n\ntweet_tokenizer \u003d TweetTokenizer(preserve_case\u003dFalse, reduce_len\u003dTrue, strip_handles\u003dTrue)\nstop_words \u003d set(stopwords.words(\u0027english\u0027))\nlemmatizer \u003d WordNetLemmatizer()\n\ndef tokenizer(text):\n    words \u003d tweet_tokenizer.tokenize(text)\n    stopwordless \u003d [w for w in words if w not in stop_words]\n    lemmatized \u003d [lemmatizer.lemmatize(w) for w in stopwordless]\n    return lemmatized\n\nparameters \u003d {\n    #\u0027clf__alpha\u0027: (1e-2, 1e-3),\n    #\u0027clf__fit_intercept\u0027: (True, False),\n    #\u0027clf__loss\u0027: (\u0027hinge\u0027, \u0027log\u0027, \u0027modified_huber\u0027, \u0027squared_hinge\u0027, \u0027perceptron\u0027, \u0027squared_loss\u0027, \n    #         \u0027huber\u0027, \u0027epsilon_insensitive\u0027, \u0027squared_epsilon_insensitive\u0027),\n    #\u0027clf__penalty\u0027: (\u0027l2\u0027, \u0027l1\u0027, \u0027elasticnet\u0027),\n    #\u0027tfidf__norm\u0027: (\u0027l1\u0027, \u0027l2\u0027 or None),\n    #\u0027tfidf__smooth_idf\u0027: (True, False),\n    #\u0027tfidf__sublinear_tf\u0027: (True, False),\n    #\u0027tfidf__use_idf\u0027: (True, False),\n    #\u0027vect__lowercase\u0027: (False, True),\n    #\u0027vect__ngram_range\u0027: [(1, 1), (1, 2), (1, 3)],\n    #\u0027vect__stop_words\u0027: (\u0027english\u0027, stopwords.words(\u0027english\u0027), None),\n    #\u0027vect__strip_accents\u0027: (\u0027ascii\u0027, \u0027unicode\u0027, None),\n    #\u0027vect__tokenizer\u0027: (tweet_tokenizer.tokenize, None),\n    #\u0027vect__token_pattern\u0027: (u\"(?ui)\\\\b\\\\w*[a-z]+\\\\w*\\\\b\", r\"(?u)\\b\\w\\w+\\b\", None)\n}\ndisaster_type_sgdc_classifier \u003d Pipeline([\n    (\u0027vect\u0027, CountVectorizer(analyzer\u003d\u0027word\u0027, tokenizer\u003dtweet_tokenizer.tokenize)),\n    (\u0027tfidf\u0027, TfidfTransformer(norm\u003d\u0027l2\u0027, smooth_idf\u003dFalse, sublinear_tf\u003dFalse, use_idf\u003dFalse)),\n    (\u0027clf\u0027, SGDClassifier(alpha\u003d.001, loss\u003d\u0027modified_huber\u0027, penalty\u003d\u0027l2\u0027, max_iter\u003d20, random_state\u003d42)),\n    ])\n\ngrid_search_disaster_type_sgdc_classifier \u003d GridSearchCV(disaster_type_sgdc_classifier, parameters, cv\u003d5, n_jobs\u003d4)\\\n    .fit(train[\"text\"], train[\"disaster_type\"])\n\nprint(\"Best parameters\")\nfor param_name in sorted(parameters.keys()):\n    print(\"%s: %r\" % (param_name, grid_search_disaster_type_sgdc_classifier.best_params_[param_name]))\n\ngrid_search_sgdc_disaster_type_predictions \u003d grid_search_disaster_type_sgdc_classifier.predict(valid[\"text\"])\nprint(metrics.classification_report(valid[\"disaster_type\"], grid_search_sgdc_disaster_type_predictions))",
      "execution_count": 33,
      "outputs": [
        {
          "name": "stdout",
          "text": [
            "Best parameters\n",
            "              precision    recall  f1-score   support\n\n  earthquake       0.99      0.97      0.98       295\n        fire       0.89      0.23      0.36        35\n       flood       0.92      0.85      0.88       137\n   hurricane       1.00      0.76      0.86       255\n        none       0.96      1.00      0.98      2783\n\n    accuracy                           0.97      3505\n   macro avg       0.95      0.76      0.81      3505\nweighted avg       0.97      0.97      0.96      3505\n\n"
          ],
          "output_type": "stream"
        }
      ]
    }
  ]
}